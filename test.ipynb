{
  "nbformat": 4,
  "nbformat_minor": 0,
  "metadata": {
    "colab": {
      "name": "test.ipynb",
      "provenance": []
    },
    "kernelspec": {
      "name": "python3",
      "display_name": "Python 3"
    },
    "language_info": {
      "name": "python"
    }
  },
  "cells": [
    {
      "cell_type": "markdown",
      "metadata": {
        "id": "SGK0gavsnbSa"
      },
      "source": [
        "## 適当な修正したよ"
      ]
    },
    {
      "cell_type": "code",
      "metadata": {
        "id": "eDYuBMjMnWx_"
      },
      "source": [
        "# test だよ\n",
        "x = 1\n",
        "y = 2\n",
        "z = 4"
      ],
      "execution_count": null,
      "outputs": []
    }
  ]
}